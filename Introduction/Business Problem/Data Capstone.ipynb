{
    "cells": [
        {
            "cell_type": "markdown",
            "metadata": {
                "collapsed": true
            },
            "source": "# The Battle of the Neighborhoods : Hennepin County, Minnesota\n## IBM Data Science Professional Certificate\n## Capstone Project\n### Danielle Dumonceaux\n### April 2020"
        },
        {
            "cell_type": "markdown",
            "metadata": {},
            "source": "  "
        },
        {
            "cell_type": "markdown",
            "metadata": {},
            "source": "### Business Understanding\n\n#### I) Description of the Project\n##### 1. Background\n\nInnovation and strong business climate are in the DNA of the state of Minnesota. From being a pioneer in medical devices and bioscience technology, to a leader in water technology, food and agricultural innovation, Internet of Things, and new technologies. \n\nIn 2019, Fortune 500 named the Twin Cities (Hennepin County) in Minnesota number one with having the most Fortune 500 companies per Capita among top 30 metro areas. Politico 2018 named Minnesota as the second Strongest State in the Nation, while the 2019 U.S. News & World Report ranked Minnesota as third Best State Overall.  \n\nThe state of Minnesota welcomes cutting-edge ideas, from big, small, and debuting companies. While Minnesota is home to 17 Fortune 500 companies and six of the nation\u2019s largest private companies, the prosperous economy of the state would not be such without the burgeoning small and debuting businesses. Startup businesses add to the robust job market found in Minnesota, which helped Minnesota acquire the 2018 title of \u201cHappiest State in the U.S.\u201d from MagnifyMoney, and the 2019 U.S. News & World Report ranking of number three for opportunity. Startup businesses have been successful in the state of Minnesota, helping the state obtain the ranking of third in Startup Early Survival Rate from Kauffman Indicators of Entrepreneurship for 2017, and an equal rating from the Bureau of labor Statistics from 2013-2018 as the best 5-Year Business Survival Rate. \n\nMinnesota is an ever growing culturally diverse state whose residents enjoy indulging on familiar and innovative foods. Each year, the residents of Minnesota join together at the Great Minnesota Get Together, other known as the Minnesota State Fair, to experience new twists to their favorite dishes, and explore novel treats from around the gastronomic globe. However, outside of the August fair, the residents of Minnesota are avid restaurant goers, where each dish has a touch of modernization and innovation.\n\n###### 2. Interest\n\nA multi-gastronomical world-renowned chef desires to bring his innovative culinary perspective to the Twin Cities -- Hennepin County -- to open up a type of restaurant that is already present, yet under represented in the area. They desire the restaurant to be in an urban area geared towards the middle-class budget\u2014 at least 64% of the households making $3,334 a month or more, therefore located in an area that is populated by said class --between 21,000 and 90,000 residents-- to support the business, but also one that has a rich culinary scene. \n\n### II) Data Understanding\n\nThere are three types of data that will be used to resolve the problem at hand.\n\n1. **Metropolitan Council** (https://metrocouncil.org/Data-and-Maps.aspx) : Used to acquire a list of the various neighborhoods in Hennepin County, their collective population, and their average salary. This information is to identify the various neighborhoods in play, to see if there is a boosting population that could support the new small business, and to identify which community would be identified as middle-class. Data is from the year 2017.\n2. **FourSqure**: Used to acquire a comprehensive list of the restaurant establishments currently in Hennepin County. A filtered list is used to identify which restaurant type is already present but least represented.\n3. **Geospatial Data**: Used to integrate the restaurants to the neighborhoods by their longitude and latitude coordinates. "
        }
    ],
    "metadata": {
        "kernelspec": {
            "display_name": "Python 3.6",
            "language": "python",
            "name": "python3"
        },
        "language_info": {
            "codemirror_mode": {
                "name": "ipython",
                "version": 3
            },
            "file_extension": ".py",
            "mimetype": "text/x-python",
            "name": "python",
            "nbconvert_exporter": "python",
            "pygments_lexer": "ipython3",
            "version": "3.6.9"
        }
    },
    "nbformat": 4,
    "nbformat_minor": 1
}